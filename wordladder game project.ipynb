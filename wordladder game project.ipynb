{
 "cells": [
  {
   "cell_type": "code",
   "execution_count": 2,
   "metadata": {},
   "outputs": [],
   "source": [
    "from IPython.core.interactiveshell import InteractiveShell\n",
    "InteractiveShell.ast_node_interactivity = \"all\""
   ]
  },
  {
   "cell_type": "code",
   "execution_count": 3,
   "metadata": {},
   "outputs": [
    {
     "name": "stderr",
     "output_type": "stream",
     "text": [
      "/Users/jyotikhetan/anaconda3/lib/python3.7/site-packages/urllib3/connectionpool.py:847: InsecureRequestWarning: Unverified HTTPS request is being made. Adding certificate verification is strongly advised. See: https://urllib3.readthedocs.io/en/latest/advanced-usage.html#ssl-warnings\n",
      "  InsecureRequestWarning)\n"
     ]
    },
    {
     "data": {
      "text/plain": [
       "4863005"
      ]
     },
     "execution_count": 3,
     "metadata": {},
     "output_type": "execute_result"
    }
   ],
   "source": [
    "import urllib3\n",
    "http = urllib3.PoolManager()\n",
    "r = http.request('GET', \n",
    "\"https://raw.githubusercontent.com/dwyl/english-words/master/words.txt\", \n",
    "preload_content=False)\n",
    "with open(\"desktop/data science/python/data/words.txt\", 'wb') as out:\n",
    "    data = r.read()\n",
    "    out.write(data)\n",
    "r.release_conn()"
   ]
  },
  {
   "cell_type": "code",
   "execution_count": 4,
   "metadata": {},
   "outputs": [],
   "source": [
    "word_list=open(\"desktop/data science/python/data/words.txt\").readlines()\n",
    "word_list=map(str.strip,word_list)"
   ]
  },
  {
   "cell_type": "code",
   "execution_count": 5,
   "metadata": {},
   "outputs": [
    {
     "name": "stdout",
     "output_type": "stream",
     "text": [
      "['aah', 'aal', 'abb', 'abd', 'aby', 'abl', 'abn', 'abr', 'abt', 'abv', 'acy', 'ade', 'ady', 'adj', 'ado', 'adv', 'adz', 'aeq', 'aer', 'afd', 'aff', 'aga', 'age', 'agy', 'ago', 'ahi', 'aho', 'ahs', 'ahu', 'aye', 'aik', 'ail', 'ays', 'ait', 'ayu', 'ake', 'ako', 'aku', 'ale', 'aly', 'alk', 'all', 'aln', 'alt', 'alw', 'ana', 'and', 'ane', 'ans', 'ant', 'aob', 'aor', 'aph', 'apx', 'arb', 'ard', 'ary', 'arn', 'arr', 'art', 'arx', 'asb', 'ase', 'ast', 'ate', 'aud', 'auf', 'auh', 'aul', 'avg', 'avn', 'awa', 'awd', 'awe', 'awm', 'awn', 'azo', 'bad', 'bah', 'baw', 'bbs', 'bcf', 'bdl', 'bec', 'beg', 'bey', 'bet', 'bhd', 'bye', 'big', 'bin', 'bio', 'byp', 'bys', 'biz', 'bkg', 'bks', 'bkt', 'bld', 'ble', 'blk', 'blo', 'boa', 'boe', 'bog', 'boh', 'boo', 'bpt', 'brr', 'bsh', 'buy', 'bun', 'buz', 'bvt', 'bxs', 'cag', 'cay', 'caw', 'ccm', 'cdg', 'cee', 'cep', 'cfh', 'cfm', 'cfs', 'chg', 'chn', 'chs', 'cyc', 'cig', 'cyl', 'cyp', 'cir', 'civ', 'ckw', 'cle', 'clk', 'cog', 'cow', 'coz', 'cre', 'cro', 'cru', 'csk', 'csw', 'cte', 'ctf', 'ctg', 'ctn', 'ctr', 'cud', 'cue', 'cuj', 'cum', 'cun', 'cup', 'cur', 'cwm', 'cwt', 'dah', 'dau', 'daw', 'dbl', 'dbv', 'dbw', 'def', 'deg', 'dep', 'dha', 'dye', 'dig', 'dyn', 'dys', 'dit', 'dkg', 'dkl', 'dkm', 'dks', 'dlr', 'dog', 'doh', 'dom', 'doo', 'doz', 'dpt', 'dtd', 'dub', 'due', 'dug', 'dum', 'duo', 'dup', 'dux', 'dwt', 'dzo', 'ead', 'ean', 'ear', 'eat', 'ebb', 'ecb', 'edh', 'een', 'eer', 'eff', 'efl', 'eft', 'egg', 'eye', 'eyl', 'ein', 'eyn', 'eir', 'eyr', 'eke', 'elb', 'eld', 'elk', 'els', 'eme', 'enc', 'end', 'ene', 'enl', 'ent', 'env', 'eon', 'epi', 'erf', 'erg', 'ery', 'erk', 'err', 'ese', 'ess', 'est', 'eth', 'ety', 'evg', 'exp', 'exr', 'ext', 'fac', 'fcy', 'fcp', 'feh', 'fei', 'fer', 'feu', 'few', 'fgn', 'fic', 'fid', 'fie', 'fig', 'fil', 'fix', 'fiz', 'fld', 'fly', 'fll', 'flu', 'fmt', 'fod', 'fog', 'foh', 'fol', 'foo', 'fop', 'fou', 'fow', 'fro', 'frt', 'fth', 'fub', 'fug', 'ful', 'fum', 'fun', 'fut', 'gaj', 'gam', 'gap', 'gau', 'gaz', 'gea', 'gey', 'gen', 'get', 'gez', 'ggr', 'ghi', 'gie', 'gye', 'gig', 'gim', 'gym', 'gyn', 'gip', 'gyp', 'git', 'glb', 'glt', 'gns', 'gob', 'goi', 'goy', 'gol', 'gon', 'goo', 'got', 'gou', 'gph', 'gra', 'gre', 'grf', 'gry', 'grr', 'grx', 'gtd', 'gud', 'gue', 'gul', 'gup', 'guv', 'guz', 'hae', 'haf', 'hah', 'haj', 'has', 'hav', 'haw', 'hcb', 'hed', 'hee', 'heh', 'hei', 'her', 'hes', 'het', 'hex', 'hgt', 'hia', 'hid', 'hyd', 'hie', 'hin', 'hip', 'hyp', 'hir', 'hit', 'hld', 'hmm', 'hny', 'hoc', 'hod', 'hog', 'hop', 'hor', 'hot', 'hox', 'hrs', 'hub', 'hug', 'huh', 'hup', 'hvy', 'hwa', 'hwy', 'hwt', 'yad', 'yah', 'yay', 'yak', 'ial', 'ian', 'iao', 'yar', 'yas', 'yat', 'yaw', 'ice', 'ich', 'icy', 'ick', 'ics', 'ide', 'yds', 'yea', 'yed', 'yep', 'ier', 'yer', 'yes', 'yet', 'yew', 'yex', 'yez', 'ify', 'ign', 'ihi', 'iii', 'iyo', 'yip', 'yis', 'ile', 'ilk', 'imi', 'imu', 'ina', 'ine', 'yne', 'ing', 'ink', 'inv', 'yod', 'yoe', 'yoi', 'yoy', 'yok', 'yom', 'ion', 'yon', 'ior', 'yor', 'yot', 'you', 'yow', 'yox', 'iph', 'ipr', 'iqs', 'irk', 'ise', 'ish', 'ism', 'ist', 'isz', 'itd', 'ite', 'ity', 'yug', 'yuh', 'ium', 'yum', 'yus', 'ive', 'iwa', 'ize', 'jab', 'jad', 'jah', 'jai', 'jak', 'jar', 'jaw', 'jct', 'jee', 'jef', 'jeg', 'jib', 'jig', 'jin', 'jnd', 'jnt', 'jog', 'jot', 'jow', 'jug', 'jus', 'jut', 'juv', 'kab', 'kae', 'kaj', 'kci', 'ked', 'kef', 'kep', 'kex', 'kgf', 'kgr', 'khi', 'khu', 'kie', 'kye', 'kil', 'kin', 'kir', 'kyu', 'kln', 'kmc', 'kob', 'koe', 'koi', 'kon', 'kop', 'kor', 'kou', 'kpc', 'kph', 'krs', 'ksi', 'kue', 'kva', 'kwh', 'lag', 'lah', 'lav', 'lbf', 'lbw', 'leg', 'lei', 'lep', 'let', 'leu', 'lex', 'lez', 'lhb', 'lyc', 'lid', 'lye', 'lig', 'lym', 'lip', 'liq', 'lis', 'lnr', 'log', 'loo', 'loq', 'lor', 'lpm', 'lpw', 'ltr', 'lub', 'luc', 'lue', 'lui', 'lum', 'luv', 'mas', 'maw', 'mbd', 'mcg', 'mem', 'men', 'meq', 'mer', 'meu', 'mew', 'mfd', 'mgd', 'mho', 'myc', 'myg', 'mym', 'mix', 'mkt', 'mlx', 'mmf', 'mob', 'moy', 'mom', 'moo', 'mow', 'mpb', 'mtg', 'mtn', 'mud', 'mug', 'mum', 'mut', 'mxd', 'nae', 'naf', 'nav', 'naw', 'nci', 'nef', 'nek', 'nib', 'nid', 'nik', 'nit', 'nix', 'noa', 'nob', 'nog', 'noy', 'nol', 'nom', 'non', 'noo', 'not', 'nou', 'now', 'nub', 'oad', 'oaf', 'oam', 'oar', 'obb', 'obi', 'obj', 'obl', 'obv', 'och', 'ock', 'ode', 'oer', 'off', 'oft', 'oho', 'ohs', 'ohv', 'oic', 'oid', 'oie', 'oii', 'oik', 'oil', 'oke', 'oki', 'ole', 'olp', 'oma', 'ome', 'one', 'ony', 'ons', 'ont', 'oof', 'ooh', 'oon', 'oos', 'ope', 'opt', 'orc', 'orf', 'org', 'ory', 'orl', 'ors', 'ose', 'ote', 'oud', 'ouf', 'oui', 'our', 'ous', 'out', 'owd', 'owe', 'owk', 'owl', 'own', 'owt', 'oxy', 'oxo', 'ozs', 'pah', 'pay', 'pav', 'paw', 'pct', 'pea', 'ped', 'pee', 'pes', 'pew', 'pfc', 'pfd', 'pfg', 'pfx', 'pho', 'phr', 'pht', 'phu', 'pya', 'pie', 'pye', 'pig', 'pik', 'pil', 'pim', 'pir', 'pyr', 'pis', 'piu', 'pix', 'pyx', 'pkg', 'pks', 'pkt', 'plf', 'pli', 'ply', 'plu', 'pmk', 'pod', 'poi', 'poy', 'pon', 'pot', 'pox', 'poz', 'pph', 'ppl', 'ppr', 'prf', 'prn', 'prp', 'ptg', 'pty', 'pts', 'pua', 'pub', 'pug', 'puy', 'pun', 'pus', 'put', 'pwr', 'pwt', 'qaf', 'qat', 'qrs', 'qtd', 'qto', 'qtr', 'qts', 'qua', 'qui', 'quo', 'rag', 'rah', 'rat', 'raw', 'rax', 'rcd', 'red', 'ref', 'reh', 'rei', 'rel', 'req', 'res', 'ret', 'rfb', 'rfz', 'rhb', 'rhd', 'rhe', 'rho', 'rya', 'rib', 'rig', 'rin', 'riv', 'rix', 'rle', 'rly', 'rnd', 'roo', 'rpt', 'rte', 'rti', 'rtw', 'rub', 'rud', 'rug', 'run', 'rut', 'rux', 'rwd', 'sah', 'saj', 'sav', 'sea', 'seg', 'sey', 'seq', 'sew', 'sfm', 'sfz', 'sgd', 'she', 'shh', 'shi', 'shy', 'sho', 'shp', 'shr', 'sht', 'sie', 'sye', 'sym', 'sis', 'ska', 'ski', 'sld', 'slt', 'sml', 'sny', 'sod', 'soe', 'sog', 'soy', 'sok', 'sot', 'sov', 'sox', 'spy', 'spp', 'spt', 'sqd', 'sqq', 'ssu', 'stg', 'sty', 'stk', 'str', 'sub', 'sud', 'suf', 'suq', 'suz', 'swy', 'taa', 'taj', 'taw', 'tax', 'tch', 'tck', 'tea', 'tee', 'tef', 'teg', 'tet', 'tew', 'tez', 'tfr', 'tgt', 'tha', 'the', 'thy', 'tib', 'tie', 'tig', 'tyg', 'til', 'tin', 'typ', 'tis', 'tyt', 'tji', 'tkt', 'tlo', 'tlr', 'tmh', 'toa', 'toe', 'tog', 'toi', 'ton', 'too', 'tot', 'tou', 'tov', 'tox', 'tpd', 'tph', 'tpk', 'tra', 'trf', 'try', 'trp', 'trs', 'trt', 'tsk', 'tua', 'tub', 'tue', 'tug', 'tui', 'tuy', 'tum', 'tun', 'tup', 'tux', 'two', 'twp', 'txt', 'ubi', 'udo', 'ugh', 'ugt', 'uhs', 'uji', 'ule', 'ult', 'umm', 'ump', 'umu', 'unb', 'unc', 'ung', 'unl', 'unn', 'unp', 'uns', 'upo', 'ura', 'urb', 'ure', 'urf', 'urn', 'urs', 'ush', 'ust', 'usu', 'uti', 'uts', 'uva', 'vag', 'vau', 'vaw', 'veg', 'vei', 'vel', 'vet', 'vie', 'vii', 'vil', 'vim', 'vis', 'viz', 'voc', 'vog', 'vol', 'vow', 'vox', 'vug', 'vum', 'wab', 'wad', 'wae', 'wah', 'way', 'was', 'waw', 'wax', 'wee', 'wef', 'wem', 'wen', 'wer', 'wet', 'wha', 'whf', 'why', 'whr', 'whs', 'wid', 'wim', 'wir', 'wiz', 'wjc', 'wmk', 'woa', 'wob', 'wod', 'woe', 'wog', 'woy', 'wok', 'wop', 'wos', 'wot', 'wpm', 'wry', 'wro', 'wud', 'wup', 'wur', 'wus', 'wut', 'xat', 'xcl', 'xed', 'xii', 'xis', 'xiv', 'xix', 'xyz', 'xvi', 'xxi', 'xxv', 'xxx', 'zac', 'zad', 'zag', 'zap', 'zar', 'zat', 'zax', 'zee', 'zek', 'zer', 'zho', 'zig', 'zit', 'zoa', 'zod', 'zoo', 'zzt']\n"
     ]
    },
    {
     "data": {
      "text/plain": [
       "1018"
      ]
     },
     "execution_count": 5,
     "metadata": {},
     "output_type": "execute_result"
    }
   ],
   "source": [
    "word_list=[word for word in word_list if len(word)==3]\n",
    "word_list=[word for word in word_list if word[0].islower()]\n",
    "word_list=[word for word in word_list if word.isalpha()]\n",
    "word_list=list(map(str.lower,word_list))\n",
    "print(word_list)\n",
    "#word_list.sort()\n",
    "#print(word_list)\n",
    "len(word_list)"
   ]
  },
  {
   "cell_type": "code",
   "execution_count": 6,
   "metadata": {},
   "outputs": [
    {
     "data": {
      "text/plain": [
       "dtype('<U3')"
      ]
     },
     "execution_count": 6,
     "metadata": {},
     "output_type": "execute_result"
    },
    {
     "data": {
      "text/plain": [
       "array(['aah', 'aal', 'abb', ..., 'zod', 'zoo', 'zzt'], dtype='<U3')"
      ]
     },
     "execution_count": 6,
     "metadata": {},
     "output_type": "execute_result"
    }
   ],
   "source": [
    "import numpy as np\n",
    "word_list=np.asarray(word_list)\n",
    "word_list.dtype\n",
    "word_list.sort()\n",
    "word_list"
   ]
  },
  {
   "cell_type": "code",
   "execution_count": 7,
   "metadata": {},
   "outputs": [
    {
     "data": {
      "text/plain": [
       "array([[ 97,   0,   0, ...,   0,   0,   0],\n",
       "       [ 97,   0,   0, ...,   0,   0,   0],\n",
       "       [ 97,   0,   0, ...,   0,   0,   0],\n",
       "       ...,\n",
       "       [122,   0,   0, ...,   0,   0,   0],\n",
       "       [122,   0,   0, ...,   0,   0,   0],\n",
       "       [122,   0,   0, ...,   0,   0,   0]], dtype=uint8)"
      ]
     },
     "execution_count": 7,
     "metadata": {},
     "output_type": "execute_result"
    },
    {
     "data": {
      "text/plain": [
       "array([ 97,   0,   0,   0,  97,   0,   0,   0, 104,   0,   0,   0],\n",
       "      dtype=uint8)"
      ]
     },
     "execution_count": 7,
     "metadata": {},
     "output_type": "execute_result"
    },
    {
     "data": {
      "text/plain": [
       "(1018, 12)"
      ]
     },
     "execution_count": 7,
     "metadata": {},
     "output_type": "execute_result"
    },
    {
     "data": {
      "text/plain": [
       "array([[ 97,  97, 104],\n",
       "       [ 97,  97, 108],\n",
       "       [ 97,  98,  98],\n",
       "       ...,\n",
       "       [122, 111, 100],\n",
       "       [122, 111, 111],\n",
       "       [122, 122, 116]], dtype=uint8)"
      ]
     },
     "execution_count": 7,
     "metadata": {},
     "output_type": "execute_result"
    },
    {
     "data": {
      "text/plain": [
       "(1018, 3)"
      ]
     },
     "execution_count": 7,
     "metadata": {},
     "output_type": "execute_result"
    }
   ],
   "source": [
    "word_bytes=np.ndarray((word_list.size,word_list.itemsize),dtype='uint8',buffer=word_list.data)\n",
    "word_bytes\n",
    "word_bytes[0]\n",
    "word_bytes.shape\n",
    "word_bytes=word_bytes[:,::word_list.itemsize//3]\n",
    "word_bytes\n",
    "word_bytes.shape"
   ]
  },
  {
   "cell_type": "code",
   "execution_count": 8,
   "metadata": {},
   "outputs": [
    {
     "data": {
      "text/plain": [
       "array(['aah', 'aal', 'abb', 'abd', 'abl'], dtype='<U3')"
      ]
     },
     "execution_count": 8,
     "metadata": {},
     "output_type": "execute_result"
    },
    {
     "data": {
      "text/plain": [
       "array([[ 97,  97, 104],\n",
       "       [ 97,  97, 108],\n",
       "       [ 97,  98,  98],\n",
       "       [ 97,  98, 100],\n",
       "       [ 97,  98, 108]], dtype=uint8)"
      ]
     },
     "execution_count": 8,
     "metadata": {},
     "output_type": "execute_result"
    }
   ],
   "source": [
    "word_list[0:5]\n",
    "word_bytes[0:5]"
   ]
  },
  {
   "cell_type": "code",
   "execution_count": 9,
   "metadata": {},
   "outputs": [
    {
     "data": {
      "text/plain": [
       "(517653,)"
      ]
     },
     "execution_count": 9,
     "metadata": {},
     "output_type": "execute_result"
    },
    {
     "data": {
      "text/plain": [
       "array([0.33333333, 0.66666667, 0.66666667, ..., 0.33333333, 0.66666667,\n",
       "       0.66666667])"
      ]
     },
     "execution_count": 9,
     "metadata": {},
     "output_type": "execute_result"
    }
   ],
   "source": [
    "from scipy.spatial.distance import pdist,squareform\n",
    "from scipy.sparse import csr_matrix\n",
    "import numpy as np\n",
    "hamming_dist=pdist(word_bytes,metric='hamming')\n",
    "hamming_dist.shape\n",
    "hamming_dist"
   ]
  },
  {
   "cell_type": "code",
   "execution_count": 10,
   "metadata": {},
   "outputs": [
    {
     "data": {
      "text/plain": [
       "array(['aah', 'aal', 'abb', 'abd'], dtype='<U3')"
      ]
     },
     "execution_count": 10,
     "metadata": {},
     "output_type": "execute_result"
    },
    {
     "data": {
      "text/plain": [
       "array([[ 97,  97, 104],\n",
       "       [ 97,  97, 108],\n",
       "       [ 97,  98,  98],\n",
       "       [ 97,  98, 100]], dtype=uint8)"
      ]
     },
     "execution_count": 10,
     "metadata": {},
     "output_type": "execute_result"
    },
    {
     "data": {
      "text/plain": [
       "array([0.33333333, 0.66666667, 0.66666667, 0.66666667])"
      ]
     },
     "execution_count": 10,
     "metadata": {},
     "output_type": "execute_result"
    }
   ],
   "source": [
    "word_list[0:4]\n",
    "word_bytes[0:4]\n",
    "hamming_dist[0:4]"
   ]
  },
  {
   "cell_type": "code",
   "execution_count": 11,
   "metadata": {},
   "outputs": [
    {
     "data": {
      "text/plain": [
       "array([[0.        , 0.33333333, 0.66666667, ..., 1.        , 1.        ,\n",
       "        1.        ],\n",
       "       [0.33333333, 0.        , 0.66666667, ..., 1.        , 1.        ,\n",
       "        1.        ],\n",
       "       [0.66666667, 0.66666667, 0.        , ..., 1.        , 1.        ,\n",
       "        1.        ],\n",
       "       ...,\n",
       "       [1.        , 1.        , 1.        , ..., 0.        , 0.33333333,\n",
       "        0.66666667],\n",
       "       [1.        , 1.        , 1.        , ..., 0.33333333, 0.        ,\n",
       "        0.66666667],\n",
       "       [1.        , 1.        , 1.        , ..., 0.66666667, 0.66666667,\n",
       "        0.        ]])"
      ]
     },
     "execution_count": 11,
     "metadata": {},
     "output_type": "execute_result"
    },
    {
     "data": {
      "text/plain": [
       "array([[0.        , 0.33333333, 0.66666667, 0.66666667],\n",
       "       [0.33333333, 0.        , 0.66666667, 0.66666667],\n",
       "       [0.66666667, 0.66666667, 0.        , 0.33333333],\n",
       "       [0.66666667, 0.66666667, 0.33333333, 0.        ]])"
      ]
     },
     "execution_count": 11,
     "metadata": {},
     "output_type": "execute_result"
    },
    {
     "data": {
      "text/plain": [
       "(1018, 1018)"
      ]
     },
     "execution_count": 11,
     "metadata": {},
     "output_type": "execute_result"
    },
    {
     "data": {
      "text/plain": [
       "array([[False,  True, False, False],\n",
       "       [ True, False, False, False],\n",
       "       [False, False, False,  True],\n",
       "       [False, False,  True, False]])"
      ]
     },
     "execution_count": 11,
     "metadata": {},
     "output_type": "execute_result"
    }
   ],
   "source": [
    "squareform(hamming_dist)\n",
    "squareform(hamming_dist)[0:4,0:4]\n",
    "mat=squareform(hamming_dist<1.5/3)\n",
    "mat.shape\n",
    "mat[0:4,0:4]"
   ]
  },
  {
   "cell_type": "code",
   "execution_count": 12,
   "metadata": {},
   "outputs": [
    {
     "data": {
      "text/plain": [
       "array([[False,  True, False, False, False, False, False, False, False,\n",
       "        False, False, False, False, False, False, False, False, False,\n",
       "        False, False, False, False, False, False, False, False, False,\n",
       "        False, False, False, False, False, False, False, False, False,\n",
       "        False, False, False, False, False, False, False, False, False,\n",
       "        False, False, False, False,  True, False, False, False, False,\n",
       "        False, False, False, False, False, False, False, False, False,\n",
       "        False],\n",
       "       [ True, False, False, False,  True, False, False, False, False,\n",
       "        False, False, False, False, False, False, False, False, False,\n",
       "        False, False, False, False, False, False, False, False, False,\n",
       "        False, False, False,  True, False, False, False, False, False,\n",
       "        False,  True, False, False, False, False, False, False, False,\n",
       "        False, False, False, False, False, False, False, False, False,\n",
       "        False, False, False, False, False, False, False, False, False,\n",
       "        False],\n",
       "       [False, False, False,  True,  True,  True,  True,  True,  True,\n",
       "         True, False, False, False, False, False, False, False, False,\n",
       "        False, False, False, False, False, False, False, False, False,\n",
       "        False, False, False, False, False, False, False, False, False,\n",
       "        False, False, False, False, False, False, False, False, False,\n",
       "        False, False,  True, False, False, False,  True, False, False,\n",
       "        False, False, False, False,  True, False, False, False, False,\n",
       "        False],\n",
       "       [False, False,  True, False,  True,  True,  True,  True,  True,\n",
       "         True, False, False, False, False, False, False, False, False,\n",
       "        False,  True, False, False, False, False, False, False, False,\n",
       "        False, False, False, False, False, False, False, False, False,\n",
       "        False, False, False, False, False, False, False,  True, False,\n",
       "        False, False, False, False, False, False, False,  True, False,\n",
       "        False, False, False, False, False, False, False, False,  True,\n",
       "        False],\n",
       "       [False,  True,  True,  True, False,  True,  True,  True,  True,\n",
       "         True, False, False, False, False, False, False, False, False,\n",
       "        False, False, False, False, False, False, False, False, False,\n",
       "        False, False, False,  True, False, False, False, False, False,\n",
       "        False,  True, False, False, False, False, False, False, False,\n",
       "        False, False, False, False, False, False, False, False, False,\n",
       "        False, False, False, False, False, False, False, False, False,\n",
       "        False],\n",
       "       [False, False,  True,  True,  True, False,  True,  True,  True,\n",
       "         True, False, False, False, False, False, False, False, False,\n",
       "        False, False, False, False, False, False, False, False, False,\n",
       "        False, False, False, False, False, False, False, False, False,\n",
       "        False, False,  True, False, False, False, False, False, False,\n",
       "        False, False, False, False, False, False, False, False,  True,\n",
       "        False, False, False, False, False, False, False, False, False,\n",
       "        False]])"
      ]
     },
     "execution_count": 12,
     "metadata": {},
     "output_type": "execute_result"
    },
    {
     "name": "stdout",
     "output_type": "stream",
     "text": [
      "  (0, 1)\tTrue\n",
      "  (0, 49)\tTrue\n",
      "  (0, 64)\tTrue\n",
      "  (0, 78)\tTrue\n",
      "  (0, 159)\tTrue\n",
      "  (0, 328)\tTrue\n",
      "  (0, 415)\tTrue\n",
      "  (0, 471)\tTrue\n",
      "  (0, 625)\tTrue\n",
      "  (0, 700)\tTrue\n",
      "  (0, 740)\tTrue\n",
      "  (0, 912)\tTrue\n",
      "  (0, 965)\tTrue\n",
      "  (1, 0)\tTrue\n",
      "  (1, 4)\tTrue\n",
      "  (1, 30)\tTrue\n",
      "  (1, 37)\tTrue\n",
      "  (1, 65)\tTrue\n",
      "  (1, 371)\tTrue\n",
      "  (2, 3)\tTrue\n",
      "  (2, 4)\tTrue\n",
      "  (2, 5)\tTrue\n",
      "  (2, 6)\tTrue\n",
      "  (2, 7)\tTrue\n",
      "  (2, 8)\tTrue\n",
      "  (2, 9)\tTrue\n",
      "  (2, 47)\tTrue\n",
      "  (2, 51)\tTrue\n",
      "  (2, 58)\tTrue\n",
      "  (2, 199)\tTrue\n",
      "  (2, 566)\tTrue\n"
     ]
    }
   ],
   "source": [
    "graph=csr_matrix(mat)\n",
    "mat[0:6,0:64]\n",
    "print(graph[0:3])"
   ]
  },
  {
   "cell_type": "code",
   "execution_count": 13,
   "metadata": {},
   "outputs": [
    {
     "data": {
      "text/plain": [
       "'and'"
      ]
     },
     "execution_count": 13,
     "metadata": {},
     "output_type": "execute_result"
    },
    {
     "data": {
      "text/plain": [
       "'dog'"
      ]
     },
     "execution_count": 13,
     "metadata": {},
     "output_type": "execute_result"
    }
   ],
   "source": [
    "i1= word_list.searchsorted ('and')\n",
    "i2= word_list.searchsorted ('dog')\n",
    "word_list[i1]\n",
    "word_list[i2]"
   ]
  },
  {
   "cell_type": "code",
   "execution_count": 14,
   "metadata": {},
   "outputs": [
    {
     "data": {
      "text/plain": [
       "43"
      ]
     },
     "execution_count": 14,
     "metadata": {},
     "output_type": "execute_result"
    },
    {
     "data": {
      "text/plain": [
       "176"
      ]
     },
     "execution_count": 14,
     "metadata": {},
     "output_type": "execute_result"
    },
    {
     "data": {
      "text/plain": [
       "'and'"
      ]
     },
     "execution_count": 14,
     "metadata": {},
     "output_type": "execute_result"
    },
    {
     "data": {
      "text/plain": [
       "'ane'"
      ]
     },
     "execution_count": 14,
     "metadata": {},
     "output_type": "execute_result"
    },
    {
     "data": {
      "text/plain": [
       "array([3., 3., 2., 1., 2., 2., 2., 2., 2., 2., 3., 2., 3., 3., 3., 3., 3.,\n",
       "       4., 3., 1.])"
      ]
     },
     "execution_count": 14,
     "metadata": {},
     "output_type": "execute_result"
    },
    {
     "data": {
      "text/plain": [
       "array([64, 65,  3, 43,  3,  3,  3,  3,  3,  3,  9, 44, 11, 11,  8,  9, 11,\n",
       "       18, 54, 43], dtype=int32)"
      ]
     },
     "execution_count": 14,
     "metadata": {},
     "output_type": "execute_result"
    },
    {
     "data": {
      "text/plain": [
       "5.0"
      ]
     },
     "execution_count": 14,
     "metadata": {},
     "output_type": "execute_result"
    }
   ],
   "source": [
    "from scipy.sparse.csgraph import dijkstra\n",
    "distance,predecessors=dijkstra(graph,indices=i1,return_predecessors=True)\n",
    "i1\n",
    "i2\n",
    "word_list[43]\n",
    "word_list[44]\n",
    "distance[0:20]\n",
    "predecessors[0:20]\n",
    "distance[i2]"
   ]
  },
  {
   "cell_type": "code",
   "execution_count": 15,
   "metadata": {},
   "outputs": [
    {
     "data": {
      "text/plain": [
       "'dug'"
      ]
     },
     "execution_count": 15,
     "metadata": {},
     "output_type": "execute_result"
    },
    {
     "data": {
      "text/plain": [
       "'mug'"
      ]
     },
     "execution_count": 15,
     "metadata": {},
     "output_type": "execute_result"
    },
    {
     "data": {
      "text/plain": [
       "'mud'"
      ]
     },
     "execution_count": 15,
     "metadata": {},
     "output_type": "execute_result"
    },
    {
     "data": {
      "text/plain": [
       "'aud'"
      ]
     },
     "execution_count": 15,
     "metadata": {},
     "output_type": "execute_result"
    },
    {
     "data": {
      "text/plain": [
       "'and'"
      ]
     },
     "execution_count": 15,
     "metadata": {},
     "output_type": "execute_result"
    },
    {
     "data": {
      "text/plain": [
       "['dog', 'dug', 'mug', 'mud', 'aud', 'and']"
      ]
     },
     "execution_count": 15,
     "metadata": {},
     "output_type": "execute_result"
    },
    {
     "data": {
      "text/plain": [
       "['and', 'aud', 'mud', 'mug', 'dug', 'dog']"
      ]
     },
     "execution_count": 15,
     "metadata": {},
     "output_type": "execute_result"
    }
   ],
   "source": [
    "path=[]\n",
    "i=i2\n",
    "while i!=i1:\n",
    "    path.append(word_list[i])\n",
    "    i=predecessors[i]\n",
    "    word_list[i]\n",
    "path.append(word_list[i1])\n",
    "path\n",
    "path[::-1]"
   ]
  },
  {
   "cell_type": "code",
   "execution_count": 16,
   "metadata": {},
   "outputs": [
    {
     "data": {
      "text/plain": [
       "9"
      ]
     },
     "execution_count": 16,
     "metadata": {},
     "output_type": "execute_result"
    },
    {
     "data": {
      "text/plain": [
       "(1018,)"
      ]
     },
     "execution_count": 16,
     "metadata": {},
     "output_type": "execute_result"
    },
    {
     "data": {
      "text/plain": [
       "array([0, 0, 0, 0, 0, 0, 0, 0, 0, 0, 0, 0, 0, 0, 0, 0, 0, 0, 0, 0, 0, 0,\n",
       "       0, 0, 0, 0, 0, 0, 0, 0, 0, 0, 0, 0, 0, 0, 0, 0, 0, 0, 0, 0, 0, 0,\n",
       "       0, 0, 0, 0, 0, 0, 0, 0, 0, 0, 0, 0, 0, 0, 0, 0, 0, 0, 0, 0, 0, 0,\n",
       "       0, 0, 0, 0, 0, 0, 0, 0, 0, 0, 0, 0, 0, 0, 0, 1, 2, 0, 0, 0, 0, 0,\n",
       "       0, 0], dtype=int32)"
      ]
     },
     "execution_count": 16,
     "metadata": {},
     "output_type": "execute_result"
    },
    {
     "data": {
      "text/plain": [
       "'bcf'"
      ]
     },
     "execution_count": 16,
     "metadata": {},
     "output_type": "execute_result"
    },
    {
     "data": {
      "text/plain": [
       "'bdl'"
      ]
     },
     "execution_count": 16,
     "metadata": {},
     "output_type": "execute_result"
    }
   ],
   "source": [
    "#not connected with any word in list\n",
    "from scipy.sparse.csgraph import connected_components\n",
    "N_components,component_list=connected_components(graph)\n",
    "N_components\n",
    "component_list.shape\n",
    "component_list[0:90]\n",
    "word_list[81]\n",
    "word_list[82]"
   ]
  },
  {
   "cell_type": "code",
   "execution_count": 17,
   "metadata": {},
   "outputs": [
    {
     "data": {
      "text/plain": [
       "[1010, 1, 1, 1, 1, 1, 1, 1, 1]"
      ]
     },
     "execution_count": 17,
     "metadata": {},
     "output_type": "execute_result"
    }
   ],
   "source": [
    "[np.sum(component_list==i) for i in range(N_components)]"
   ]
  },
  {
   "cell_type": "code",
   "execution_count": 18,
   "metadata": {},
   "outputs": [
    {
     "data": {
      "text/plain": [
       "[['bcf'], ['bdl'], ['epi'], ['mmf'], ['sml'], ['wjc'], ['xcl'], ['xyz']]"
      ]
     },
     "execution_count": 18,
     "metadata": {},
     "output_type": "execute_result"
    }
   ],
   "source": [
    "[list(word_list[np.where(component_list==i)])for i in range(1,N_components)]"
   ]
  },
  {
   "cell_type": "code",
   "execution_count": 19,
   "metadata": {},
   "outputs": [
    {
     "data": {
      "text/plain": [
       "11.0"
      ]
     },
     "execution_count": 19,
     "metadata": {},
     "output_type": "execute_result"
    },
    {
     "data": {
      "text/plain": [
       "array([[0., 1., 3., 3., 2., 3., 3., 3., 3.],\n",
       "       [1., 0., 2., 2., 1., 2., 2., 2., 2.],\n",
       "       [3., 2., 0., 1., 1., 1., 1., 1., 1.],\n",
       "       [3., 2., 1., 0., 1., 1., 1., 1., 1.],\n",
       "       [2., 1., 1., 1., 0., 1., 1., 1., 1.],\n",
       "       [3., 2., 1., 1., 1., 0., 1., 1., 1.],\n",
       "       [3., 2., 1., 1., 1., 1., 0., 1., 1.],\n",
       "       [3., 2., 1., 1., 1., 1., 1., 0., 1.],\n",
       "       [3., 2., 1., 1., 1., 1., 1., 1., 0.]])"
      ]
     },
     "execution_count": 19,
     "metadata": {},
     "output_type": "execute_result"
    },
    {
     "data": {
      "text/plain": [
       "array([[-9999,     0,     4,    62,     1,     4,     4,     4,     4],\n",
       "       [    1, -9999,     4,     4,     1,     4,     4,     4,     4],\n",
       "       [    1,     4, -9999,     2,     2,     2,     2,     2,     2],\n",
       "       [   64,     4,     3, -9999,     3,     3,     3,     3,     3],\n",
       "       [    1,     4,     4,     4, -9999,     4,     4,     4,     4],\n",
       "       [    1,     4,     5,     5,     5, -9999,     5,     5,     5],\n",
       "       [    1,     4,     6,     6,     6,     6, -9999,     6,     6],\n",
       "       [    1,     4,     7,     7,     7,     7,     7, -9999,     7],\n",
       "       [    1,     4,     8,     8,     8,     8,     8,     8, -9999]],\n",
       "      dtype=int32)"
      ]
     },
     "execution_count": 19,
     "metadata": {},
     "output_type": "execute_result"
    },
    {
     "data": {
      "text/plain": [
       "array(['aah', 'aal', 'abb', 'abd', 'abl', 'abn', 'abr', 'abt', 'abv'],\n",
       "      dtype='<U3')"
      ]
     },
     "execution_count": 19,
     "metadata": {},
     "output_type": "execute_result"
    }
   ],
   "source": [
    "#maximum distance words\n",
    "distance,predecessors=dijkstra(graph,return_predecessors=True)\n",
    "max_distance=np.max(distance[~np.isinf(distance)])\n",
    "max_distance\n",
    "distance[0:9,0:9]\n",
    "predecessors[0:9,0:9]\n",
    "word_list[0:9]"
   ]
  },
  {
   "cell_type": "code",
   "execution_count": 20,
   "metadata": {},
   "outputs": [
    {
     "data": {
      "text/plain": [
       "[('dlr', 'hmm'),\n",
       " ('dlr', 'kmc'),\n",
       " ('hmm', 'dlr'),\n",
       " ('hmm', 'lbf'),\n",
       " ('hmm', 'rfz'),\n",
       " ('hmm', 'tfr'),\n",
       " ('kmc', 'dlr'),\n",
       " ('kmc', 'tfr'),\n",
       " ('lbf', 'hmm'),\n",
       " ('rfz', 'hmm'),\n",
       " ('tfr', 'hmm'),\n",
       " ('tfr', 'kmc')]"
      ]
     },
     "execution_count": 20,
     "metadata": {},
     "output_type": "execute_result"
    }
   ],
   "source": [
    "i1,i2=np.where(distance==max_distance)\n",
    "list(zip(word_list[i1],word_list[i2]))"
   ]
  },
  {
   "cell_type": "code",
   "execution_count": 23,
   "metadata": {},
   "outputs": [
    {
     "name": "stdout",
     "output_type": "stream",
     "text": [
      "['dlr', 'tlr', 'tlo', 'blo', 'boo', 'boh', 'bsh', 'ush', 'usu', 'umu', 'umm', 'hmm']\n",
      "['dlr', 'tlr', 'tlo', 'blo', 'bld', 'bad', 'bah', 'pah', 'pph', 'kph', 'kpc', 'kmc']\n",
      "['hmm', 'umm', 'umu', 'usu', 'ust', 'ugt', 'tgt', 'tot', 'too', 'tlo', 'tlr', 'dlr']\n",
      "['hmm', 'umm', 'umu', 'usu', 'ust', 'ast', 'abt', 'abv', 'dbv', 'dbw', 'lbw', 'lbf']\n",
      "['hmm', 'umm', 'ump', 'unp', 'uns', 'ons', 'ous', 'ouf', 'suf', 'suz', 'sfz', 'rfz']\n",
      "['hmm', 'umm', 'umu', 'usu', 'ust', 'ugt', 'tgt', 'tot', 'too', 'tlo', 'tlr', 'tfr']\n",
      "['kmc', 'kpc', 'kph', 'iph', 'ich', 'ick', 'ilk', 'blk', 'blo', 'tlo', 'tlr', 'dlr']\n",
      "['kmc', 'kpc', 'kph', 'iph', 'ich', 'ick', 'ilk', 'blk', 'blo', 'tlo', 'tlr', 'tfr']\n",
      "['lbf', 'lbw', 'dbw', 'daw', 'baw', 'bah', 'bsh', 'ush', 'usu', 'umu', 'umm', 'hmm']\n",
      "['rfz', 'rfb', 'rhb', 'rho', 'sho', 'shi', 'ihi', 'imi', 'imu', 'umu', 'umm', 'hmm']\n",
      "['tfr', 'tlr', 'tlo', 'blo', 'boo', 'boh', 'bsh', 'ush', 'usu', 'umu', 'umm', 'hmm']\n",
      "['tfr', 'tlr', 'tlo', 'blo', 'bld', 'bad', 'bah', 'pah', 'pph', 'kph', 'kpc', 'kmc']\n"
     ]
    }
   ],
   "source": [
    "for j,i in zip(i1,i2):\n",
    "    path = []\n",
    "    while i != j:\n",
    "        path.append(word_list[i])\n",
    "        i = predecessors[j,i]\n",
    "    path.append(word_list[j])\n",
    "    print(path[::-1])"
   ]
  }
 ],
 "metadata": {
  "kernelspec": {
   "display_name": "Python 3",
   "language": "python",
   "name": "python3"
  },
  "language_info": {
   "codemirror_mode": {
    "name": "ipython",
    "version": 3
   },
   "file_extension": ".py",
   "mimetype": "text/x-python",
   "name": "python",
   "nbconvert_exporter": "python",
   "pygments_lexer": "ipython3",
   "version": "3.7.3"
  }
 },
 "nbformat": 4,
 "nbformat_minor": 2
}
